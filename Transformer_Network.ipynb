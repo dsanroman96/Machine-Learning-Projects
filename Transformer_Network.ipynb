{
  "nbformat": 4,
  "nbformat_minor": 0,
  "metadata": {
    "colab": {
      "name": "Transformer Network.ipynb",
      "provenance": [],
      "authorship_tag": "ABX9TyNKhEgYqcQyHU9gY1yytN3X",
      "include_colab_link": true
    },
    "kernelspec": {
      "name": "python3",
      "display_name": "Python 3"
    },
    "language_info": {
      "name": "python"
    }
  },
  "cells": [
    {
      "cell_type": "markdown",
      "metadata": {
        "id": "view-in-github",
        "colab_type": "text"
      },
      "source": [
        "<a href=\"https://colab.research.google.com/github/dsanroman96/Machine-Learning-Projects/blob/main/Transformer_Network.ipynb\" target=\"_parent\"><img src=\"https://colab.research.google.com/assets/colab-badge.svg\" alt=\"Open In Colab\"/></a>"
      ]
    },
    {
      "cell_type": "code",
      "metadata": {
        "id": "ABQOZ6djEee1"
      },
      "source": [
        "import tensorflow as tf\n",
        "import numpy as np\n",
        "import unicodedata\n",
        "import re\n",
        "import time\n",
        "from tensorflow.keras.layers import Dense, Embedding, BatchNormalization, LayerNormalization\n",
        "from tensorflow.keras.losses import SparseCategoricalCrossentropy\n",
        "import IPython"
      ],
      "execution_count": null,
      "outputs": []
    },
    {
      "cell_type": "markdown",
      "metadata": {
        "id": "rBD_UQtuEfS6"
      },
      "source": [
        "## Data Preprocessing"
      ]
    },
    {
      "cell_type": "code",
      "metadata": {
        "colab": {
          "base_uri": "https://localhost:8080/"
        },
        "id": "AVCg0w2pEDVX",
        "outputId": "6206a0ac-a22c-43b9-e1d3-f5590e95312d"
      },
      "source": [
        "raw_data = (\n",
        "    ('What a ridiculous concept!', 'Quel concept ridicule !'),\n",
        "    ('Your idea is not entirely crazy.', \"Votre idée n'est pas complètement folle.\"),\n",
        "    (\"A man's worth lies in what he is.\", \"La valeur d'un homme réside dans ce qu'il est.\"),\n",
        "    ('What he did is very wrong.', \"Ce qu'il a fait est très mal.\"),\n",
        "    (\"All three of you need to do that.\", \"Vous avez besoin de faire cela, tous les trois.\"),\n",
        "    (\"Are you giving me another chance?\", \"Me donnez-vous une autre chance ?\"),\n",
        "    (\"Both Tom and Mary work as models.\", \"Tom et Mary travaillent tous les deux comme mannequins.\"),\n",
        "    (\"Can I have a few minutes, please?\", \"Puis-je avoir quelques minutes, je vous prie ?\"),\n",
        "    (\"Could you close the door, please?\", \"Pourriez-vous fermer la porte, s'il vous plaît ?\"),\n",
        "    (\"Did you plant pumpkins this year?\", \"Cette année, avez-vous planté des citrouilles ?\"),\n",
        "    (\"Do you ever study in the library?\", \"Est-ce que vous étudiez à la bibliothèque des fois ?\"),\n",
        "    (\"Don't be deceived by appearances.\", \"Ne vous laissez pas abuser par les apparences.\"),\n",
        "    (\"Excuse me. Can you speak English?\", \"Je vous prie de m'excuser ! Savez-vous parler anglais ?\"),\n",
        "    (\"Few people know the true meaning.\", \"Peu de gens savent ce que cela veut réellement dire.\"),\n",
        "    (\"Germany produced many scientists.\", \"L'Allemagne a produit beaucoup de scientifiques.\"),\n",
        "    (\"Guess whose birthday it is today.\", \"Devine de qui c'est l'anniversaire, aujourd'hui !\"),\n",
        "    (\"He acted like he owned the place.\", \"Il s'est comporté comme s'il possédait l'endroit.\"),\n",
        "    (\"Honesty will pay in the long run.\", \"L'honnêteté paye à la longue.\"),\n",
        "    (\"How do we know this isn't a trap?\", \"Comment savez-vous qu'il ne s'agit pas d'un piège ?\"),\n",
        "    (\"I can't believe you're giving up.\", \"Je n'arrive pas à croire que vous abandonniez.\"),\n",
        ")\n",
        "\n",
        "def unicode_to_ascii(s):\n",
        "    return ''.join(\n",
        "        c for c in unicodedata.normalize('NFD', s)\n",
        "        if unicodedata.category(c) != 'Mn')\n",
        "\n",
        "\n",
        "def normalize_string(s):\n",
        "    s = unicode_to_ascii(s)\n",
        "    s = re.sub(r'([!.?])', r' \\1', s)\n",
        "    s = re.sub(r'[^a-zA-Z.!?]+', r' ', s)\n",
        "    s = re.sub(r'\\s+', r' ', s)\n",
        "    return s\n",
        "\n",
        "\n",
        "raw_data_en, raw_data_fr = list(zip(*raw_data))\n",
        "raw_data_en, raw_data_fr = list(raw_data_en), list(raw_data_fr)\n",
        "raw_data_en = [normalize_string(data) for data in raw_data_en]\n",
        "raw_data_fr_in = ['<start> ' + normalize_string(data) for data in raw_data_fr]\n",
        "raw_data_fr_out = [normalize_string(data) + ' <end>' for data in raw_data_fr]\n",
        "\n",
        "\n",
        "en_tokenizer = tf.keras.preprocessing.text.Tokenizer(filters='')\n",
        "en_tokenizer.fit_on_texts(raw_data_en)\n",
        "data_en = en_tokenizer.texts_to_sequences(raw_data_en)\n",
        "data_en = tf.keras.preprocessing.sequence.pad_sequences(data_en,\n",
        "                                                        padding='post')\n",
        "\n",
        "fr_tokenizer = tf.keras.preprocessing.text.Tokenizer(filters='')\n",
        "fr_tokenizer.fit_on_texts(raw_data_fr_in)\n",
        "fr_tokenizer.fit_on_texts(raw_data_fr_out)\n",
        "data_fr_in = fr_tokenizer.texts_to_sequences(raw_data_fr_in)\n",
        "data_fr_in = tf.keras.preprocessing.sequence.pad_sequences(data_fr_in,\n",
        "                                                           padding='post')\n",
        "\n",
        "data_fr_out = fr_tokenizer.texts_to_sequences(raw_data_fr_out)\n",
        "data_fr_out = tf.keras.preprocessing.sequence.pad_sequences(data_fr_out,\n",
        "                                                            padding='post')\n",
        "\n",
        "\n",
        "BATCH_SIZE = 1\n",
        "dataset = tf.data.Dataset.from_tensor_slices(\n",
        "    (data_en, data_fr_in, data_fr_out))\n",
        "dataset = dataset.shuffle(20).batch(BATCH_SIZE)\n",
        "dataset"
      ],
      "execution_count": null,
      "outputs": [
        {
          "output_type": "execute_result",
          "data": {
            "text/plain": [
              "<BatchDataset shapes: ((None, 10), (None, 14), (None, 14)), types: (tf.int32, tf.int32, tf.int32)>"
            ]
          },
          "metadata": {},
          "execution_count": 13
        }
      ]
    },
    {
      "cell_type": "markdown",
      "metadata": {
        "id": "9eFfOsodEkwu"
      },
      "source": [
        "## Positional Embedding"
      ]
    },
    {
      "cell_type": "code",
      "metadata": {
        "id": "ZhRQCerlEK1K"
      },
      "source": [
        "def positional_embedding(max_len, model_size):\n",
        "  embedding = []\n",
        "  for pos in range(max_len):\n",
        "    PE = np.zeros((1, model_size))\n",
        "    for i in range(model_size):\n",
        "      if i %2 == 0:\n",
        "        PE[:,i] = np.sin(pos / 10000 ** (i / model_size))\n",
        "      else:\n",
        "        PE[:,i] = np.cos(pos / 10000 ** ((i-1) / model_size))\n",
        "    embedding.append(PE)\n",
        "  \n",
        "  embedding=np.concatenate(embedding, axis=0)\n",
        "  embedding = tf.constant(embedding, dtype=tf.float32)\n",
        "  return embedding"
      ],
      "execution_count": null,
      "outputs": []
    },
    {
      "cell_type": "markdown",
      "metadata": {
        "id": "vz0JyIy5EnqQ"
      },
      "source": [
        "## Multi-Head Attention"
      ]
    },
    {
      "cell_type": "code",
      "metadata": {
        "id": "zsyggzBSEOwv"
      },
      "source": [
        "class MultiHeadAttention(tf.keras.Model):\n",
        "  def __init__(self, model_size, num_heads):\n",
        "    super(MultiHeadAttention, self).__init__()\n",
        "    self.num_heads = num_heads\n",
        "    self.heads_size = model_size // num_heads\n",
        "    self.querys = Dense(model_size)\n",
        "    self.keys = Dense(model_size)\n",
        "    self.values = Dense(model_size)\n",
        "    self.output_layer = Dense(model_size)\n",
        "  \n",
        "  def create_head(self, head, batch_size):\n",
        "    head = tf.reshape(head, [batch_size, -1, self.num_heads, self.heads_size])\n",
        "    head = tf.transpose(head, [0, 2, 1, 3])\n",
        "    return head\n",
        "\n",
        "  def call(self, target_seq, input_seq, mask=None):\n",
        "    batch_size = q.shape[0]\n",
        "    q = self.create_head(self.querys(target_seq), batch_size)\n",
        "    k = self.create_head(self.keys(input_seq), batch_size)\n",
        "    v = self.create_head(self.values(input_seq), batch_size)\n",
        "\n",
        "    score = tf.matmul(q, k, transpose_b=True)\n",
        "    score /= tf.math.sqrt(tf.dtypes.cast(self.heads_size, dtype=tf.float32))\n",
        "\n",
        "    if mask is not None:\n",
        "      score *= mask\n",
        "      score = tf.where(tf.equal(score, 0), tf.ones_like(score) * -1e9, score)\n",
        "\n",
        "    alignment = tf.nn.softmax(score, axis=-1)\n",
        "    context = tf.matmul(alignment, v)\n",
        "    context = tf.transpose(context, [0, 2, 1, 3])\n",
        "    context = tf.reshape(context, [batch_size, -1, self.heads_size * self.num_heads])\n",
        "\n",
        "    heads = self.output_layer(context)\n",
        "\n",
        "    return heads"
      ],
      "execution_count": null,
      "outputs": []
    },
    {
      "cell_type": "markdown",
      "metadata": {
        "id": "BvocMwjDErwC"
      },
      "source": [
        "## Encoder"
      ]
    },
    {
      "cell_type": "code",
      "metadata": {
        "id": "8LKX5lEOEP0p"
      },
      "source": [
        "class Encoder(tf.keras.Model):\n",
        "  def __init__(self, vocab_size, model_size, num_layers, num_heads, pes):\n",
        "    super(Encoder, self).__init__()\n",
        "    self.model_size = model_size\n",
        "    self.num_layers = num_layers\n",
        "    self.num_heads = num_heads\n",
        "    self.pes = pes\n",
        "    \n",
        "    self.embedding = Embedding(vocab_size, model_size)\n",
        "\n",
        "    self.attention = [MultiHeadAttention(model_size, num_heads) for _ in range(num_layers)]\n",
        "    self.attention_norm = [LayerNormalization() for _ in range(num_layers)]\n",
        "\n",
        "    self.dense_1 = [Dense(model_size * 4, activation=\"relu\") for _ in range(num_layers)]\n",
        "    self.dense_2 = [Dense(model_size) for _ in range(num_layers)]\n",
        "    self.dense_norm = [LayerNormalization() for _ in range(num_layers)]\n",
        "\n",
        "  def call(self, sequence, padding_mask=None):\n",
        "    embed = self.embedding(sequence)\n",
        "    embed += self.pes[:sequence.shape[1], :]\n",
        "    \n",
        "    sub_in = embed\n",
        "\n",
        "    for i in range(self.num_layers):\n",
        "      sub_out = self.attention[i](sub_in, sub_in, mask=None)\n",
        "      sub_out = sub_in + sub_out\n",
        "      sub_out = self.attention_norm[i](sub_out)\n",
        "\n",
        "      feed_forward = sub_out\n",
        "\n",
        "      feed_forward = self.dense_1[i](feed_forward)\n",
        "      feed_forward = self.dense_2[i](feed_forward)\n",
        "      feed_forward = feed_forward + sub_out\n",
        "      feed_forward = self.dense_norm[i](feed_forward)\n",
        "\n",
        "      sub_in = feed_forward\n",
        "    \n",
        "    return feed_forward\n"
      ],
      "execution_count": null,
      "outputs": []
    },
    {
      "cell_type": "markdown",
      "metadata": {
        "id": "uk45wXwHEtyR"
      },
      "source": [
        "## Decoder"
      ]
    },
    {
      "cell_type": "code",
      "metadata": {
        "id": "RZtI9qtDERMj"
      },
      "source": [
        "class Decoder(tf.keras.Model):\n",
        "  def __init__(self, vocab_size, model_size, num_layers, num_heads, pes):\n",
        "    super(Decoder, self).__init__()\n",
        "    self.model_size = model_size\n",
        "    self.num_layers = num_layers\n",
        "    self.num_heads = num_heads\n",
        "\n",
        "    self.pes = pes\n",
        "    self.embedding = Embedding(vocab_size, model_size)\n",
        "    \n",
        "    self.attention_1 = [MultiHeadAttention(model_size, num_heads) for _ in range(num_layers)]\n",
        "    self.attention_norm_1 = [LayerNormalization() for _ in range(num_layers)]\n",
        "\n",
        "    self.attention_2 = [MultiHeadAttention(model_size, num_heads) for _ in range(num_layers)]\n",
        "    self.attention_norm_2 = [LayerNormalization() for _ in range(num_layers)]\n",
        "\n",
        "    self.dense_1 = [Dense(model_size * 4, activation=\"relu\") for _ in range(num_layers)]\n",
        "    self.dense_2 = [Dense(model_size) for _ in range(num_layers)]\n",
        "    self.dense_norm = [LayerNormalization() for _ in range(num_layers)]\n",
        "\n",
        "    self.dense_out = Dense(vocab_size)\n",
        "\n",
        "  def call(self, sequence, encoder_output, padding_mask=None):\n",
        "    embed = self.embedding(sequence)\n",
        "    embed += self.pes[:sequence.shape[1], :]\n",
        "    sub_in_1 = embed\n",
        "\n",
        "    for i in range(self.num_layers):\n",
        "\n",
        "      look_left_only_mask = tf.linalg.band_part(tf.ones((sequence.shape[1], sequence.shape[1])), -1, 0)\n",
        "      sub_out_1 = self.attention_1[i](sub_in_1, sub_in_1, look_left_only_mask)\n",
        "      sub_out_1 = sub_out_1 + sub_in_1\n",
        "      sub_out_1 = self.attention_norm_1[i](sub_out_1)\n",
        "\n",
        "      sub_in_2 = sub_out_1\n",
        "\n",
        "      sub_out_2 = self.attention_2[i](sub_in_2, encoder_output, padding_mask)\n",
        "      sub_out_2 = sub_out_2 + sub_in_2\n",
        "      sub_out_2 = self.attention_norm_2[i](sub_out_2)\n",
        "      \n",
        "      feed_forward = sub_out_2\n",
        "\n",
        "      feed_forward = self.dense_1[i](feed_forward)\n",
        "      feed_forward = self.dense_2[i](feed_forward)\n",
        "      feed_forward = feed_forward + sub_out_2\n",
        "      feed_forward = self.dense_norm[i](feed_forward)\n",
        "\n",
        "      sub_in_1 = feed_forward\n",
        "\n",
        "    logits = self.dense_out(feed_forward)\n",
        "    return logits\n"
      ],
      "execution_count": null,
      "outputs": []
    },
    {
      "cell_type": "markdown",
      "metadata": {
        "id": "MzAR_Cu_E30Q"
      },
      "source": [
        "## Loss Function & Optimizer"
      ]
    },
    {
      "cell_type": "code",
      "metadata": {
        "id": "teUSMqeqET65"
      },
      "source": [
        "def my_loss_func(targets, logits):\n",
        "    mask = tf.math.logical_not(tf.math.equal(targets, 0))\n",
        "    mask = tf.cast(mask, dtype=tf.int64)\n",
        "    crossentropy = tf.keras.losses.SparseCategoricalCrossentropy(from_logits=True)\n",
        "    loss = crossentropy(targets, logits, sample_weight=mask)\n",
        "    return loss\n",
        "\n",
        "optimizer = tf.keras.optimizers.Adam()"
      ],
      "execution_count": null,
      "outputs": []
    },
    {
      "cell_type": "markdown",
      "metadata": {
        "id": "XJK0O6-RE8TZ"
      },
      "source": [
        "## Train Function"
      ]
    },
    {
      "cell_type": "code",
      "metadata": {
        "id": "2c-mZB48EVZP"
      },
      "source": [
        "@tf.function\n",
        "def train_step(original_seq, target_seq_in, target_seq_out):\n",
        "  with tf.GradientTape() as tape:\n",
        "    padding_mask = 1 - tf.cast(tf.equal(original_seq, 0), dtype=tf.float32)\n",
        "    padding_mask = tf.expand_dims(padding_mask, axis=1)\n",
        "    padding_mask = tf.expand_dims(padding_mask, axis=1)\n",
        "\n",
        "    encoder_output = encoder(original_seq, padding_mask)\n",
        "    decoder_output = decoder(target_seq_in, encoder_output, padding_mask)\n",
        "    loss = my_loss_func(target_seq_out, decoder_output)\n",
        "  \n",
        "  variables = encoder.trainable_variables + decoder.trainable_variables\n",
        "  gradients = tape.gradient(loss, variables)\n",
        "  optimizer.apply_gradients(zip(gradients, variables))\n",
        "  return loss\n",
        "    "
      ],
      "execution_count": null,
      "outputs": []
    },
    {
      "cell_type": "markdown",
      "metadata": {
        "id": "PuceDEZ-FFdu"
      },
      "source": [
        "## Translate Function"
      ]
    },
    {
      "cell_type": "code",
      "metadata": {
        "id": "i7x_XqsnEWm5"
      },
      "source": [
        "def translate(original_text=None):\n",
        "  if original_text is None:\n",
        "    original_text = raw_data_en[np.random.choice(len(raw_data_en))]\n",
        "  print(\"ENGLISH: \" + original_text)\n",
        "\n",
        "  original_seq = en_tokenizer.texts_to_sequences([original_text])\n",
        "  \n",
        "  en_output = encoder(tf.constant(original_seq))\n",
        "  de_input = tf.constant([[fr_tokenizer.word_index['<start>']]], dtype=tf.int64)\n",
        "\n",
        "  out_words = []\n",
        "  while True:\n",
        "    de_output = decoder(de_input, en_output)\n",
        "\n",
        "    new_token = tf.expand_dims(tf.argmax(de_output, -1)[:,-1], axis=1)\n",
        "    out_words.append(fr_tokenizer.index_word[new_token.numpy()[0][0]])\n",
        "\n",
        "    de_input = tf.concat((de_input, new_token), axis=-1)\n",
        "\n",
        "    if out_words[-1] == '<end>' or len(out_words) >= 14:\n",
        "      break\n",
        "\n",
        "  print(\"FRENCH: \" + ' '.join(out_words))\n",
        "  print()\n",
        "\n"
      ],
      "execution_count": null,
      "outputs": []
    },
    {
      "cell_type": "markdown",
      "metadata": {
        "id": "Y60Mdp_FFKK8"
      },
      "source": [
        "## Testing"
      ]
    },
    {
      "cell_type": "code",
      "metadata": {
        "id": "HZd9rVcYEyZy"
      },
      "source": [
        "NUM_HEADS = 2\n",
        "NUM_LAYERS = 2\n",
        "MODEL_SIZE = 64\n",
        "MAX_LEN = max(len(data_en[0]), len(data_fr_in[0]))\n",
        "\n",
        "en_vocab_size = len(en_tokenizer.word_index) + 1\n",
        "fr_vocab_size = len(fr_tokenizer.word_index) + 1\n",
        "pes = positional_embedding(MAX_LEN, MODEL_SIZE)\n",
        "\n",
        "encoder = Encoder(en_vocab_size, MODEL_SIZE, NUM_LAYERS, NUM_HEADS, pes)\n",
        "decoder = Decoder(fr_vocab_size, MODEL_SIZE, NUM_LAYERS, NUM_HEADS, pes)"
      ],
      "execution_count": null,
      "outputs": []
    },
    {
      "cell_type": "code",
      "metadata": {
        "colab": {
          "base_uri": "https://localhost:8080/"
        },
        "id": "ulC2evdeEX0-",
        "outputId": "d9c705d6-b03c-4a03-cfd5-7421b723d221"
      },
      "source": [
        "NUM_EPOCHS = 100\n",
        "\n",
        "start_time = time.time()\n",
        "for e in range(NUM_EPOCHS):\n",
        "  for batch, (source_seq, target_seq_in, target_seq_out) in enumerate(dataset.take(-1)):\n",
        "    loss = train_step(source_seq, target_seq_in, target_seq_out)\n",
        "\n",
        "  print('Epoch {} Loss {:.4f}'.format(\n",
        "    e + 1, loss.numpy()))\n",
        "\n",
        "  if (e + 1) % 10 == 0:\n",
        "    end_time = time.time()\n",
        "    print('Average elapsed time: {:.2f}s'.format((end_time - start_time) / (e + 1)))\n",
        "    try:\n",
        "      translate()\n",
        "    except Exception as e:\n",
        "      print(e)\n",
        "      continue"
      ],
      "execution_count": null,
      "outputs": [
        {
          "output_type": "stream",
          "name": "stdout",
          "text": [
            "Epoch 1 Loss 3.2858\n",
            "Epoch 2 Loss 3.3032\n",
            "Epoch 3 Loss 3.2410\n",
            "Epoch 4 Loss 3.8250\n",
            "Epoch 5 Loss 2.8367\n",
            "Epoch 6 Loss 4.1642\n",
            "Epoch 7 Loss 4.2485\n",
            "Epoch 8 Loss 4.1234\n",
            "Epoch 9 Loss 2.2368\n",
            "Epoch 10 Loss 2.3509\n",
            "Average elapsed time: 0.61s\n",
            "ENGLISH: He acted like he owned the place .\n",
            "FRENCH: vous vous vous a a a s . <end>\n",
            "\n",
            "Epoch 11 Loss 2.4507\n",
            "Epoch 12 Loss 3.0400\n",
            "Epoch 13 Loss 1.4478\n",
            "Epoch 14 Loss 2.1693\n",
            "Epoch 15 Loss 2.7361\n",
            "Epoch 16 Loss 1.7082\n",
            "Epoch 17 Loss 1.2900\n",
            "Epoch 18 Loss 1.4886\n",
            "Epoch 19 Loss 1.1630\n",
            "Epoch 20 Loss 1.0029\n",
            "Average elapsed time: 0.41s\n",
            "ENGLISH: What he did is very wrong .\n",
            "FRENCH: ce qu il a la s il vous plait ? <end>\n",
            "\n",
            "Epoch 21 Loss 0.9549\n",
            "Epoch 22 Loss 0.4730\n",
            "Epoch 23 Loss 0.8532\n",
            "Epoch 24 Loss 0.7908\n",
            "Epoch 25 Loss 0.5397\n",
            "Epoch 26 Loss 0.5489\n",
            "Epoch 27 Loss 0.4877\n",
            "Epoch 28 Loss 0.4394\n",
            "Epoch 29 Loss 0.3401\n",
            "Epoch 30 Loss 0.2855\n",
            "Average elapsed time: 0.35s\n",
            "ENGLISH: How do we know this isn t a trap ?\n",
            "FRENCH: l allemagne a produit beaucoup de scientifiques . <end>\n",
            "\n",
            "Epoch 31 Loss 0.2976\n",
            "Epoch 32 Loss 0.3126\n",
            "Epoch 33 Loss 0.2841\n",
            "Epoch 34 Loss 0.2617\n",
            "Epoch 35 Loss 0.2733\n",
            "Epoch 36 Loss 0.2865\n",
            "Epoch 37 Loss 0.2632\n",
            "Epoch 38 Loss 0.2493\n",
            "Epoch 39 Loss 0.3153\n",
            "Epoch 40 Loss 0.2289\n",
            "Average elapsed time: 0.32s\n",
            "ENGLISH: A man s worth lies in what he is .\n",
            "FRENCH: je n arrive pas a croire que vous abandonniez . <end>\n",
            "\n",
            "Epoch 41 Loss 0.2350\n",
            "Epoch 42 Loss 0.1954\n",
            "Epoch 43 Loss 0.1820\n",
            "Epoch 44 Loss 0.2375\n",
            "Epoch 45 Loss 0.2189\n",
            "Epoch 46 Loss 0.1394\n",
            "Epoch 47 Loss 0.1290\n",
            "Epoch 48 Loss 0.1982\n",
            "Epoch 49 Loss 0.2329\n",
            "Epoch 50 Loss 0.1220\n",
            "Average elapsed time: 0.30s\n",
            "ENGLISH: Did you plant pumpkins this year ?\n",
            "FRENCH: puis je avoir quelques minutes je vous prie ? <end>\n",
            "\n",
            "Epoch 51 Loss 0.1403\n",
            "Epoch 52 Loss 0.2133\n",
            "Epoch 53 Loss 0.0720\n",
            "Epoch 54 Loss 0.1537\n",
            "Epoch 55 Loss 0.1606\n",
            "Epoch 56 Loss 0.0238\n",
            "Epoch 57 Loss 0.0924\n",
            "Epoch 58 Loss 0.0256\n",
            "Epoch 59 Loss 0.0743\n",
            "Epoch 60 Loss 0.0278\n",
            "Average elapsed time: 0.30s\n",
            "ENGLISH: He acted like he owned the place .\n",
            "FRENCH: l honnetete paye a la longue . <end>\n",
            "\n",
            "Epoch 61 Loss 0.0554\n",
            "Epoch 62 Loss 0.0310\n",
            "Epoch 63 Loss 0.0226\n",
            "Epoch 64 Loss 0.0963\n",
            "Epoch 65 Loss 0.1119\n",
            "Epoch 66 Loss 0.1559\n",
            "Epoch 67 Loss 0.0341\n",
            "Epoch 68 Loss 0.0129\n",
            "Epoch 69 Loss 0.0083\n",
            "Epoch 70 Loss 0.0181\n",
            "Average elapsed time: 0.29s\n",
            "ENGLISH: Germany produced many scientists .\n",
            "FRENCH: l allemagne a produit beaucoup de scientifiques . <end>\n",
            "\n",
            "Epoch 71 Loss 0.0075\n",
            "Epoch 72 Loss 0.0122\n",
            "Epoch 73 Loss 0.0058\n",
            "Epoch 74 Loss 0.0062\n",
            "Epoch 75 Loss 0.0053\n",
            "Epoch 76 Loss 0.0083\n",
            "Epoch 77 Loss 0.0046\n",
            "Epoch 78 Loss 0.0062\n",
            "Epoch 79 Loss 0.0047\n",
            "Epoch 80 Loss 0.0069\n",
            "Average elapsed time: 0.28s\n",
            "ENGLISH: Can I have a few minutes please ?\n",
            "FRENCH: puis je avoir quelques minutes je vous prie ? <end>\n",
            "\n",
            "Epoch 81 Loss 0.0052\n",
            "Epoch 82 Loss 0.0050\n",
            "Epoch 83 Loss 0.0051\n",
            "Epoch 84 Loss 0.0041\n",
            "Epoch 85 Loss 0.0054\n",
            "Epoch 86 Loss 0.0040\n",
            "Epoch 87 Loss 0.0051\n",
            "Epoch 88 Loss 0.0034\n",
            "Epoch 89 Loss 0.0041\n",
            "Epoch 90 Loss 0.0050\n",
            "Average elapsed time: 0.28s\n",
            "ENGLISH: Guess whose birthday it is today .\n",
            "FRENCH: devine de qui c est l anniversaire aujourd hui ! <end>\n",
            "\n",
            "Epoch 91 Loss 0.0036\n",
            "Epoch 92 Loss 0.0034\n",
            "Epoch 93 Loss 0.0038\n",
            "Epoch 94 Loss 0.0029\n",
            "Epoch 95 Loss 0.0043\n",
            "Epoch 96 Loss 0.0031\n",
            "Epoch 97 Loss 0.0031\n",
            "Epoch 98 Loss 0.0020\n",
            "Epoch 99 Loss 0.0029\n",
            "Epoch 100 Loss 0.0028\n",
            "Average elapsed time: 0.27s\n",
            "ENGLISH: Guess whose birthday it is today .\n",
            "FRENCH: devine de qui c est l anniversaire aujourd hui ! <end>\n",
            "\n"
          ]
        }
      ]
    }
  ]
}