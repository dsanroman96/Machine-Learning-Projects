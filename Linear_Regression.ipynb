{
  "nbformat": 4,
  "nbformat_minor": 0,
  "metadata": {
    "colab": {
      "name": "Linear Regression.ipynb",
      "provenance": [],
      "collapsed_sections": [],
      "mount_file_id": "1u61JFX84mLpU0-SiEvq29_BnY-O7UBeF",
      "authorship_tag": "ABX9TyMDkiwiOvggA+NWARXdDHHz",
      "include_colab_link": true
    },
    "kernelspec": {
      "name": "python3",
      "display_name": "Python 3"
    },
    "language_info": {
      "name": "python"
    }
  },
  "cells": [
    {
      "cell_type": "markdown",
      "metadata": {
        "id": "view-in-github",
        "colab_type": "text"
      },
      "source": [
        "<a href=\"https://colab.research.google.com/github/dsanroman96/Machine-Learning-Projects/blob/main/Linear_Regression.ipynb\" target=\"_parent\"><img src=\"https://colab.research.google.com/assets/colab-badge.svg\" alt=\"Open In Colab\"/></a>"
      ]
    },
    {
      "cell_type": "code",
      "metadata": {
        "id": "hnguHYheFBiv"
      },
      "source": [
        "import numpy as np\n",
        "import pandas as pd\n",
        "from matplotlib import pyplot as plt\n",
        "from sklearn.model_selection import train_test_split\n",
        "from sklearn import datasets\n",
        "import time"
      ],
      "execution_count": null,
      "outputs": []
    },
    {
      "cell_type": "code",
      "metadata": {
        "id": "l-6JQnjsFCmH"
      },
      "source": [
        "class LinearRegression:\n",
        "  def __init__(self, learning_rate, n_iters):\n",
        "    self.lr = learning_rate\n",
        "    self.n_iters = n_iters\n",
        "    self.weights = None\n",
        "    self.bias = None\n",
        "\n",
        "  def predict(self, x):\n",
        "    return np.dot(x, self.weights) + self.bias\n",
        "  \n",
        "  def mean_squared_error(self, y_true, y_pred):\n",
        "    return np.mean((y_true - y_pred) ** 2)\n",
        "\n",
        "  def r2_score(self, y_true, y_pred):\n",
        "    corr_matrix = np.corrcoef(y_true, y_pred)\n",
        "    corr = corr_matrix[0, 1]\n",
        "    return corr ** 2\n",
        "\n",
        "  def fit(self, x, y):\n",
        "    n_samples, n_features = x.shape\n",
        "\n",
        "    self.weights = np.zeros(n_features)\n",
        "    self.bias = 0\n",
        "\n",
        "    for i in range(self.n_iters):\n",
        "      y_predicted = self.predict(x)\n",
        "      dw = (1 / n_samples) * np.dot(x.T, (y_predicted - y))\n",
        "      db = (1 / n_samples) * np.sum(y_predicted - y)\n",
        "\n",
        "      self.weights -= self.lr * dw\n",
        "      self.bias -= self.lr * db"
      ],
      "execution_count": null,
      "outputs": []
    },
    {
      "cell_type": "code",
      "metadata": {
        "id": "oBvcMmQ_Mm2E"
      },
      "source": [
        "X, y = datasets.make_regression(\n",
        "    n_samples=500, n_features=1, noise=30, random_state=10\n",
        ")\n",
        "\n",
        "X_train, X_test, y_train, y_test = train_test_split(\n",
        "    X, y, test_size=0.2, random_state=1234\n",
        ")"
      ],
      "execution_count": null,
      "outputs": []
    },
    {
      "cell_type": "code",
      "metadata": {
        "id": "hG8_3LD-TLxg",
        "colab": {
          "base_uri": "https://localhost:8080/"
        },
        "outputId": "bf6a95cd-fe61-4cf7-da02-cbde1558f922"
      },
      "source": [
        "regressor = LinearRegression(learning_rate=0.001, n_iters=5000)\n",
        "regressor.fit(X_train, y_train)\n",
        "predictions = regressor.predict(X_test)\n",
        "\n",
        "print(\"MSE:\", regressor.mean_squared_error(y_test, predictions))\n",
        "print(\"Accuracy:\", regressor.r2_score(y_test, predictions))"
      ],
      "execution_count": null,
      "outputs": [
        {
          "output_type": "stream",
          "text": [
            "MSE: 861.0159624594369\n",
            "Accuracy: 0.7641080215960661\n"
          ],
          "name": "stdout"
        }
      ]
    },
    {
      "cell_type": "code",
      "metadata": {
        "colab": {
          "base_uri": "https://localhost:8080/",
          "height": 374
        },
        "id": "WK3_acO20m9-",
        "outputId": "d38f883b-f2af-4bd1-d1d8-4e0e32240103"
      },
      "source": [
        "y_pred_line = regressor.predict(X)\n",
        "cmap = plt.get_cmap(\"viridis\")\n",
        "fig = plt.figure(figsize=(8, 6))\n",
        "m1 = plt.scatter(X_train, y_train, color=\"red\", s=5, label=\"Training\")\n",
        "m2 = plt.scatter(X_test, y_test, color=\"blue\", s=10, label=\"Test\")\n",
        "plt.plot(X, y_pred_line, color=\"black\", linewidth=1.5)\n",
        "plt.legend()\n",
        "plt.show()"
      ],
      "execution_count": null,
      "outputs": [
        {
          "output_type": "display_data",
          "data": {
            "image/png": "[encoded data removed]",
            "text/plain": [
              "<Figure size 576x432 with 1 Axes>"
            ]
          },
          "metadata": {
            "tags": [],
            "needs_background": "light"
          }
        }
      ]
    }
  ]
}