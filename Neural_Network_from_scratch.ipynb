{
  "nbformat": 4,
  "nbformat_minor": 0,
  "metadata": {
    "kernelspec": {
      "display_name": "Python 3",
      "language": "python",
      "name": "python3"
    },
    "language_info": {
      "codemirror_mode": {
        "name": "ipython",
        "version": 3
      },
      "file_extension": ".py",
      "mimetype": "text/x-python",
      "name": "python",
      "nbconvert_exporter": "python",
      "pygments_lexer": "ipython3",
      "version": "3.8.5"
    },
    "colab": {
      "name": "My_NN_Framework.ipynb",
      "provenance": [],
      "include_colab_link": true
    }
  },
  "cells": [
    {
      "cell_type": "markdown",
      "metadata": {
        "id": "view-in-github",
        "colab_type": "text"
      },
      "source": [
        "<a href=\"https://colab.research.google.com/github/dsanroman96/Machine-Learning-Projects/blob/main/Neural_Network_from_scratch.ipynb\" target=\"_parent\"><img src=\"https://colab.research.google.com/assets/colab-badge.svg\" alt=\"Open In Colab\"/></a>"
      ]
    },
    {
      "cell_type": "markdown",
      "metadata": {
        "id": "rGkGyp5q9xm_"
      },
      "source": [
        "## **Imports**"
      ]
    },
    {
      "cell_type": "code",
      "metadata": {
        "id": "HE56Dqv_9xnC"
      },
      "source": [
        "import time\n",
        "import numpy as np\n",
        "import h5py\n",
        "import matplotlib.pyplot as plt\n",
        "import scipy\n",
        "from PIL import Image\n",
        "from scipy import ndimage\n",
        "from dnn_app_utils_v2 import *\n",
        "import math\n",
        "import sys"
      ],
      "execution_count": null,
      "outputs": []
    },
    {
      "cell_type": "markdown",
      "metadata": {
        "id": "_Hf5FLAB9xnD"
      },
      "source": [
        "## **Layer**"
      ]
    },
    {
      "cell_type": "code",
      "metadata": {
        "id": "QoiqON0W9xnD"
      },
      "source": [
        "class Layers: \n",
        "    def __init__(self, composition):\n",
        "        self.parameters = {}\n",
        "        self.activation_functions = {}\n",
        "        self.dimensions = []\n",
        "        \n",
        "        np.random.seed(2)\n",
        "        \n",
        "        for i in range(len(composition)):\n",
        "            self.dimensions.append(composition[i][0])\n",
        "            if i > 0:\n",
        "                self.activation_functions[i] = composition[i][1]\n",
        "        \n",
        "        for l in range(1, len(self.dimensions)):\n",
        "            self.parameters[\"W\" + str(l)] = np.random.randn(self.dimensions[l], self.dimensions[l-1]) * np.sqrt(2/self.dimensions[l-1])\n",
        "            self.parameters[\"b\" + str(l)] = np.zeros([self.dimensions[l], 1])\n",
        "        \n",
        "        #print(self.parameters[\"W1\"])\n",
        "        "
      ],
      "execution_count": null,
      "outputs": []
    },
    {
      "cell_type": "markdown",
      "metadata": {
        "id": "IPSGRlB09xnE"
      },
      "source": [
        "## **Forward Propagation**"
      ]
    },
    {
      "cell_type": "code",
      "metadata": {
        "id": "o0nTKQ8S9xnE"
      },
      "source": [
        "class Forward_Propagation:\n",
        "    def forward(self, A, W, b):\n",
        "        Z = np.dot(W, A) + b\n",
        "        \n",
        "        cache = (A, W, b)\n",
        "        \n",
        "        return Z, cache\n",
        "\n",
        "    def activation_forward(self, A_prev, W, b, activation_function):\n",
        "        Z, linear_cache = self.forward(A_prev, W, b)\n",
        "        A = Activation_Function(activation_function, False).activate(Z, None)\n",
        "        cache = (linear_cache, Z)\n",
        "\n",
        "        return A, cache\n",
        "    \n",
        "    \n",
        "    \n",
        "    def run(self, X, parameters, activation_functions):\n",
        "        caches = []\n",
        "        activation_functions = activation_functions\n",
        "        A = X\n",
        "        L = len(parameters) // 2\n",
        "        \n",
        "        parameters[parameters == np.nan] = 1.e-17\n",
        "        \n",
        "        for l in range(1, L):\n",
        "            A_prev = A\n",
        "            A, Z = self.activation_forward(A_prev, parameters[\"W\" + str(l)], parameters[\"b\" + str(l)], activation_functions[l])\n",
        "            caches.append(Z)\n",
        "            \n",
        "\n",
        "        AL, Z = self.activation_forward(A, parameters[\"W\" + str(L)], parameters[\"b\" + str(L)], activation_functions[L])\n",
        "        caches.append(Z)\n",
        "        \n",
        "        \n",
        "        return AL, caches"
      ],
      "execution_count": null,
      "outputs": []
    },
    {
      "cell_type": "markdown",
      "metadata": {
        "id": "nY9Tnvbv9xnF"
      },
      "source": [
        "## **Functions**"
      ]
    },
    {
      "cell_type": "markdown",
      "metadata": {
        "id": "nV0s2Ixo9xnF"
      },
      "source": [
        "### Activation Functions"
      ]
    },
    {
      "cell_type": "code",
      "metadata": {
        "id": "B_zOLr_49xnG"
      },
      "source": [
        "class Activation_Function:\n",
        "    def __init__(self, name, back_prop):\n",
        "        self.name = name\n",
        "        self.back_prop = back_prop\n",
        "        \n",
        "    def sigmoid(self, Z, dA):\n",
        "        if self.back_prop == True:\n",
        "            s = 1/(1+np.exp(-Z))\n",
        "            dZ = dA * s * (1-s)\n",
        "            return dZ\n",
        "        \n",
        "        else:\n",
        "            return 1/(1 + np.exp(-Z))\n",
        "    \n",
        "    \n",
        "    def relu(self, Z, dA):\n",
        "        if self.back_prop == True:\n",
        "            dZ = np.array(dA, copy=True)\n",
        "            dZ[Z <= 0] = 0\n",
        "            return dZ\n",
        "        else:\n",
        "            return np.maximum(Z, 0)\n",
        "    \n",
        "    \n",
        "    def tanh(self, Z, dA):\n",
        "        if self.back_prop == True:\n",
        "            return 1 / np.cosh(dA)**2\n",
        "        else:\n",
        "            activate = np.tanh(Z)    \n",
        "            if np.isnan(np.sum(activate)).any():\n",
        "                activate = np.zeros(activate.shape)\n",
        "            return activate\n",
        "    \n",
        "    \n",
        "    def activate(self, Z, dA):\n",
        "        activation = None\n",
        "        if self.name == \"sigmoid\":\n",
        "            activation = self.sigmoid(Z, dA)\n",
        "        \n",
        "        elif self.name == \"relu\":\n",
        "            activation = self.relu(Z, dA)\n",
        "        \n",
        "        elif self.name == \"tanh\":\n",
        "            activation = self.tanh(Z, dA)\n",
        "            \n",
        "        \n",
        "        return activation\n",
        "        "
      ],
      "execution_count": null,
      "outputs": []
    },
    {
      "cell_type": "markdown",
      "metadata": {
        "id": "2WNm5tzY9xnG"
      },
      "source": [
        "### Cost Functions"
      ]
    },
    {
      "cell_type": "code",
      "metadata": {
        "id": "RSf5vvHA9xnH"
      },
      "source": [
        "class Cost_Function:\n",
        "    def __init__(self, name, back_prop):\n",
        "        self.name = name\n",
        "        self.back_prop = back_prop\n",
        "    \n",
        "    \n",
        "    def mean_absolute_error(self, AL, Y):\n",
        "        m = Y.shape[1]\n",
        "        return np.sum(AL - Y) / m\n",
        "    \n",
        "    \n",
        "    def root_mean_squared_error(self, AL, Y):\n",
        "        m = Y.shape[1]\n",
        "        return np.sqrt(self.mean_squared_error(AL, Y))\n",
        "    \n",
        "    \n",
        "    \n",
        "    def mean_squared_error(self, AL, Y):\n",
        "        m = Y.shape[1]\n",
        "        if self.back_prop:\n",
        "            dA = Y - AL\n",
        "            dA = -2 * dA/m\n",
        "            \n",
        "            return dA\n",
        "        \n",
        "        else:\n",
        "            dA = np.sum(Y - AL)\n",
        "            dA = dA**2\n",
        "            dA = dA/m\n",
        "            return dA\n",
        "    \n",
        "    \n",
        "    def binary_cross_entropy(self, AL, Y):\n",
        "        m = Y.shape[1]\n",
        "        \n",
        "        if self.back_prop == True:\n",
        "            dAL = - (np.divide(Y, AL) - np.divide(1 - Y, 1 - AL))\n",
        "            return dAL\n",
        "        \n",
        "        else:\n",
        "            logprobs = np.multiply(np.log(AL),Y) + np.multiply(np.log(1 - AL), (1 - Y))\n",
        "            cost = -np.sum(logprobs) / m\n",
        "            return np.squeeze(cost)\n",
        "\n",
        "        \n",
        "        \n",
        "    def compute_cost(self, AL, Y):\n",
        "        cost = None\n",
        "        \n",
        "        if self.name == \"mea\" or self.name == \"mean absolute error\":\n",
        "            cost = self.mean_absolute_error(AL, Y)\n",
        "        \n",
        "        if self.name == \"mse\" or self.name == \"mean squared error\":\n",
        "            cost = self.mean_squared_error(AL, Y)\n",
        "        \n",
        "        if self.name == \"rmse\" or self.name == \"root mean squared error\":\n",
        "            cost = self.root_mean_squared_error(AL, Y)\n",
        "        \n",
        "        if self.name == \"bicren\" or self.name ==\"binary cross entropy\":\n",
        "            cost = self.binary_cross_entropy(AL, Y)\n",
        "        \n",
        "        \n",
        "        return cost\n"
      ],
      "execution_count": null,
      "outputs": []
    },
    {
      "cell_type": "markdown",
      "metadata": {
        "collapsed": "true",
        "id": "P3_7t38a9xnH"
      },
      "source": [
        "### Optimization"
      ]
    },
    {
      "cell_type": "code",
      "metadata": {
        "id": "JcZVBWfD9xnI"
      },
      "source": [
        "class Optimization:\n",
        "    def l2_regularization(self, parameters, lambd, m):\n",
        "        L = len(parameters) // 2\n",
        "        w_sum = 0\n",
        "        for l in range(L):\n",
        "            w_sum = w_sum + np.sum(parameters[\"W\" + str(l + 1)])\n",
        "        \n",
        "        L2_regularization_cost = 1/m * lambd/2 * w_sum\n",
        "        \n",
        "        return L2_regularization_cost\n",
        "            \n",
        "        "
      ],
      "execution_count": null,
      "outputs": []
    },
    {
      "cell_type": "markdown",
      "metadata": {
        "collapsed": "true",
        "id": "CakZZwCV9xnI"
      },
      "source": [
        "## **Backpropagation**"
      ]
    },
    {
      "cell_type": "code",
      "metadata": {
        "id": "BFSz5dko9xnI"
      },
      "source": [
        "class Backpropagation:\n",
        "    def __init__(self, l2_regularization, lambd):\n",
        "        self.l2_regularization = l2_regularization\n",
        "        self.lambd = lambd\n",
        "        \n",
        "        \n",
        "    def backward(self, dZ, cache):\n",
        "        A_prev, W, b = cache\n",
        "\n",
        "        m = A_prev.shape[1]\n",
        "        \n",
        "        dW = np.dot(dZ, A_prev.T)/m\n",
        "            \n",
        "        if self.l2_regularization: \n",
        "            dW = (dW + (self.lambd/m * W)) + 1.e-17\n",
        "            \n",
        "        db = np.sum(dZ, axis=1, keepdims=True)\n",
        "        dA_prev = np.dot(W.T, dZ)\n",
        "\n",
        "        return dA_prev, dW, db\n",
        "    \n",
        "    \n",
        "    def activation_backward(self, dA, cache, activation_function):\n",
        "        linear_cache, activation_cache = cache\n",
        "        dZ = Activation_Function(activation_function, True).activate(activation_cache, dA)\n",
        "        dA_prev, dW, db = self.backward(dZ, linear_cache)\n",
        "\n",
        "        return dA_prev, dW, db\n",
        "    \n",
        "    \n",
        "    def run(self, AL, Y, caches, activation_functions, cost_function):\n",
        "        grads = {}\n",
        "        L = len(caches)\n",
        "        m = AL.shape[1]\n",
        "        Y = Y.reshape(AL.shape)\n",
        "        \n",
        "        dAL = Cost_Function(cost_function, True).compute_cost(AL, Y)\n",
        "\n",
        "        current_cache = caches[L-1]\n",
        "        \n",
        "        grads[\"dA\" + str(L-1)], grads[\"dW\" + str(L)], grads[\"db\" + str(L)] = self.activation_backward(dAL, current_cache, activation_functions[L])       \n",
        "        \n",
        "        \n",
        "        for l in reversed(range(L - 1)):\n",
        "            current_cache = caches[l]\n",
        "            dA_prev_temp, dW_temp, db_temp = self.activation_backward(grads[\"dA\" + str(l + 1)], current_cache, activation_functions[l + 1])\n",
        "            grads[\"dA\" + str(l)] = dA_prev_temp\n",
        "            grads[\"dW\" + str(l + 1)] = dW_temp\n",
        "            grads[\"db\" + str(l + 1)] = db_temp\n",
        "                \n",
        "\n",
        "        return grads\n"
      ],
      "execution_count": null,
      "outputs": []
    },
    {
      "cell_type": "markdown",
      "metadata": {
        "collapsed": "true",
        "id": "T3Okkg-n9xnJ"
      },
      "source": [
        "## **Model**"
      ]
    },
    {
      "cell_type": "code",
      "metadata": {
        "id": "Qa4-rVlY9xnJ"
      },
      "source": [
        "class Model: \n",
        "    def __init__(self, x_train=None, y_train=None, layers_composition=None, learning_rate=None, num_iterations=None, cost_function=\"bicren\", \n",
        "                print_cost=False, print_cost_graphic=False, l2_regularization=False, lambd=0.01):\n",
        "        \n",
        "        self.layers = Layers(layers_composition)\n",
        "        self.parameters = self.layers.parameters\n",
        "        self.activation_functions = self.layers.activation_functions\n",
        "        self.X = x_train\n",
        "        self.Y = y_train\n",
        "        self.learning_rate = learning_rate\n",
        "        self.num_iterations = num_iterations\n",
        "        self.print_cost = print_cost\n",
        "        self.print_cost_graphic = print_cost_graphic\n",
        "        self.costs = []\n",
        "        self.l2_regularization = l2_regularization\n",
        "        self.lambd = lambd\n",
        "        self.cost_function = cost_function\n",
        "    \n",
        "    \n",
        "    def cost_graphic(self):\n",
        "        plt.plot(np.squeeze(self.costs))\n",
        "        plt.ylabel('cost')\n",
        "        plt.xlabel('iterations (per hundreds)')\n",
        "        plt.title(\"Learning rate =\" + str(self.learning_rate))\n",
        "        plt.show()\n",
        "    \n",
        "    \n",
        "    def update_parameters(self, grads):\n",
        "        L = len(self.parameters) // 2\n",
        "        for l in range(L):\n",
        "            self.parameters[\"W\" + str(l + 1)] = self.parameters[\"W\" + str(l + 1)] - self.learning_rate * grads[\"dW\" + str(l + 1)]\n",
        "            self.parameters[\"b\" + str(l + 1)] = self.parameters[\"b\" + str(l + 1)] - self.learning_rate * grads[\"db\" + str(l + 1)]\n",
        "            \n",
        "            \n",
        "\n",
        "            \n",
        "    def run(self):\n",
        "        for i in range(0, self.num_iterations):\n",
        "            \n",
        "            AL, caches = Forward_Propagation().run(self.X, self.parameters, self.activation_functions)\n",
        "            \n",
        "            cost = Cost_Function(self.cost_function, False).compute_cost(AL, self.Y)\n",
        "            \n",
        "            if self.l2_regularization: \n",
        "                cost + Optimization().l2_regularization(self.parameters, self.lambd, self.Y.shape[1])\n",
        "            \n",
        "            \n",
        "            grads = Backpropagation(self.l2_regularization, self.lambd).run(AL, self.Y, caches, self.activation_functions, self.cost_function)\n",
        "            \n",
        "            self.update_parameters(grads)\n",
        "            \n",
        "            if self.print_cost and i % 100 == 0:\n",
        "                print(\"Cost after iteration %i: %f\" %(i, cost))\n",
        "\n",
        "                \n",
        "            if self.print_cost and i % 10 == 0:\n",
        "                self.costs.append(cost)\n",
        "            \n",
        "        if self.print_cost_graphic:\n",
        "            self.cost_graphic()\n",
        "            "
      ],
      "execution_count": null,
      "outputs": []
    },
    {
      "cell_type": "code",
      "metadata": {
        "id": "_7aZTOZe9xnK"
      },
      "source": [
        "def prediction(parameters, X, activation_functions):\n",
        "    A2, cache = Forward_Propagation().run(X, parameters, activation_functions)\n",
        "    predictions = (A2 > 0.5)\n",
        "    \n",
        "    return predictions"
      ],
      "execution_count": null,
      "outputs": []
    },
    {
      "cell_type": "markdown",
      "metadata": {
        "collapsed": "true",
        "id": "Uj0R12XN9xnK"
      },
      "source": [
        "## Tests"
      ]
    },
    {
      "cell_type": "code",
      "metadata": {
        "id": "hNuh4yCk9xnK",
        "outputId": "b0f94938-e7cf-4e53-87e5-572944c760a3"
      },
      "source": [
        "train_x_orig, train_y, test_x_orig, test_y, classes = load_data()\n",
        "\n",
        "\n",
        "# Mirroring Images\n",
        "# -------------------------------------------\n",
        "print(train_x_orig.shape)\n",
        "print(train_y.shape)\n",
        "print(\"\")\n",
        "\n",
        "x = []\n",
        "y = []\n",
        "for i in range(int(len(train_x_orig))):\n",
        "    if i%5 == 0:\n",
        "        inverse = np.fliplr(train_x_orig[i])\n",
        "        x.append(inverse)\n",
        "        y.append(train_y[0][i])\n",
        "\n",
        "    \n",
        "    x.append(train_x_orig[i])\n",
        "    y.append(train_y[0][i])\n",
        "    \n",
        "\n",
        "train_x_orig = np.array(x)\n",
        "train_y = np.array([y])\n",
        "print(train_x_orig.shape)\n",
        "print(train_y.shape)\n",
        "print(\"\")\n",
        "# -------------------------------------------\n",
        "\n",
        "\n",
        "# Reshape the training and test examples \n",
        "# -------------------------------------------\n",
        "train_x_flatten = train_x_orig.reshape(train_x_orig.shape[0], -1).T   # The \"-1\" makes reshape flatten the remaining dimensions\n",
        "test_x_flatten = test_x_orig.reshape(test_x_orig.shape[0], -1).T\n",
        "# -------------------------------------------\n",
        "\n",
        "\n",
        "\n",
        "# Standardize data to have feature values between 0 and 1.\n",
        "# -------------------------------------------\n",
        "train_x = train_x_flatten/255.\n",
        "test_x = test_x_flatten/255.\n",
        "# -------------------------------------------\n",
        "\n",
        "\n",
        "# Shuffle Data\n",
        "# -------------------------------------------\n",
        "print(train_x.shape)\n",
        "print(test_x.shape)\n",
        "print(len(train_x.T))\n",
        "print(len(train_y.T))\n",
        "\n",
        "shuffler = np.random.permutation(len(train_x.T))\n",
        "\n",
        "train_x = train_x.T[shuffler]\n",
        "train_x = train_x.T\n",
        "\n",
        "train_y = train_y.T[shuffler]\n",
        "train_y = train_y.T\n",
        "# -------------------------------------------\n",
        "\n",
        "\n",
        "mini_batch = []\n",
        "x_len = (len(train_x))\n",
        "print(x_len)\n",
        "    \n",
        "    "
      ],
      "execution_count": null,
      "outputs": [
        {
          "output_type": "stream",
          "text": [
            "(209, 64, 64, 3)\n",
            "(1, 209)\n",
            "\n",
            "(251, 64, 64, 3)\n",
            "(1, 251)\n",
            "\n",
            "(12288, 251)\n",
            "(12288, 50)\n",
            "251\n",
            "251\n",
            "12288\n"
          ],
          "name": "stdout"
        }
      ]
    },
    {
      "cell_type": "code",
      "metadata": {
        "id": "Jepj3LBj9xnM",
        "outputId": "7f4c74e7-0b37-4ef3-98fd-19070fd3b00f"
      },
      "source": [
        "m = Model(\n",
        "    x_train = train_x,\n",
        "    y_train = train_y,\n",
        "    layers_composition = [[12288], [10, \"relu\"], [15, \"relu\"], [2, \"relu\"],  [1, \"sigmoid\"]],\n",
        "    learning_rate = 0.007,\n",
        "    num_iterations = 2500,\n",
        "    print_cost = True,\n",
        "    cost_function = \"bicren\",\n",
        "    print_cost_graphic = True,\n",
        "    l2_regularization = True,\n",
        "    lambd = 0.8\n",
        ")\n",
        "m.run()\n",
        "\n",
        "predictions1 = prediction(m.parameters, train_x, m.activation_functions)\n",
        "predictions2 = prediction(m.parameters, test_x, m.activation_functions)\n",
        "print(\"\")\n",
        "print ('Accuracy Training: %d' % float((np.dot(train_y,predictions1.T) + np.dot(1-train_y,1-predictions1.T))/float(train_y.size)*100) + '%')\n",
        "print ('Accuracy Test: %d' % float((np.dot(test_y,predictions2.T) + np.dot(1-test_y,1-predictions2.T))/float(test_y.size)*100) + '%')"
      ],
      "execution_count": null,
      "outputs": [
        {
          "output_type": "stream",
          "text": [
            "Cost after iteration 0: 0.789988\n",
            "Cost after iteration 100: 0.630673\n",
            "Cost after iteration 200: 0.628569\n",
            "Cost after iteration 300: 0.624969\n",
            "Cost after iteration 400: 0.617525\n",
            "Cost after iteration 500: 0.602459\n",
            "Cost after iteration 600: 0.575256\n",
            "Cost after iteration 700: 0.528529\n",
            "Cost after iteration 800: 0.477556\n",
            "Cost after iteration 900: 0.483513\n",
            "Cost after iteration 1000: 0.439682\n",
            "Cost after iteration 1100: 0.394940\n",
            "Cost after iteration 1200: 0.332386\n",
            "Cost after iteration 1300: 0.263695\n",
            "Cost after iteration 1400: 0.151890\n",
            "Cost after iteration 1500: 0.903104\n",
            "Cost after iteration 1600: 0.107907\n",
            "Cost after iteration 1700: 0.076589\n",
            "Cost after iteration 1800: 0.070286\n",
            "Cost after iteration 1900: 0.094465\n",
            "Cost after iteration 2000: 0.075568\n",
            "Cost after iteration 2100: 0.023967\n",
            "Cost after iteration 2200: 0.018405\n",
            "Cost after iteration 2300: 0.014696\n",
            "Cost after iteration 2400: 0.012147\n"
          ],
          "name": "stdout"
        },
        {
          "output_type": "display_data",
          "data": {
            "image/png": "[encoded data removed]",
            "text/plain": [
              "<Figure size 432x288 with 1 Axes>"
            ]
          },
          "metadata": {
            "tags": [],
            "needs_background": "light"
          }
        },
        {
          "output_type": "stream",
          "text": [
            "\n",
            "Accuracy Training: 100%\n",
            "Accuracy Test: 68%\n"
          ],
          "name": "stdout"
        }
      ]
    },
    {
      "cell_type": "code",
      "metadata": {
        "id": "ZQ11Ztpy9xnM",
        "outputId": "34921a33-cad1-454b-abc6-ce3e192cf556"
      },
      "source": [
        "m = Model(\n",
        "    x_train = train_x,\n",
        "    y_train = train_y,\n",
        "    layers_composition = [[12288], [10, \"relu\"], [15, \"relu\"],[5, \"relu\"], [2, \"relu\"],  [1, \"sigmoid\"]],\n",
        "    learning_rate = 0.006,\n",
        "    num_iterations = 2000,\n",
        "    print_cost = True,\n",
        "    cost_function = \"bicren\",\n",
        "    print_cost_graphic = True,\n",
        "    l2_regularization = True,\n",
        "    lambd = 0.8\n",
        ")\n",
        "m.run()\n",
        "\n",
        "predictions1 = prediction(m.parameters, train_x, m.activation_functions)\n",
        "predictions2 = prediction(m.parameters, test_x, m.activation_functions)\n",
        "print(\"\")\n",
        "print ('Accuracy Training: %d' % float((np.dot(train_y,predictions1.T) + np.dot(1-train_y,1-predictions1.T))/float(train_y.size)*100) + '%')\n",
        "print ('Accuracy Test: %d' % float((np.dot(test_y,predictions2.T) + np.dot(1-test_y,1-predictions2.T))/float(test_y.size)*100) + '%')"
      ],
      "execution_count": null,
      "outputs": [
        {
          "output_type": "stream",
          "text": [
            "Cost after iteration 0: 0.674000\n",
            "Cost after iteration 100: 0.601667\n",
            "Cost after iteration 200: 0.687801\n",
            "Cost after iteration 300: 0.413775\n",
            "Cost after iteration 400: 0.543693\n",
            "Cost after iteration 500: 0.451977\n",
            "Cost after iteration 600: 0.209930\n",
            "Cost after iteration 700: 0.130247\n",
            "Cost after iteration 800: 0.092240\n",
            "Cost after iteration 900: 0.066530\n",
            "Cost after iteration 1000: 0.048608\n",
            "Cost after iteration 1100: 0.037232\n",
            "Cost after iteration 1200: 0.029144\n",
            "Cost after iteration 1300: 0.022367\n",
            "Cost after iteration 1400: 0.018032\n",
            "Cost after iteration 1500: 0.015001\n",
            "Cost after iteration 1600: 0.012508\n",
            "Cost after iteration 1700: 0.010755\n",
            "Cost after iteration 1800: 0.009432\n",
            "Cost after iteration 1900: 0.008376\n"
          ],
          "name": "stdout"
        },
        {
          "output_type": "display_data",
          "data": {
            "image/png": "[encoded data removed]",
            "text/plain": [
              "<Figure size 432x288 with 1 Axes>"
            ]
          },
          "metadata": {
            "tags": [],
            "needs_background": "light"
          }
        },
        {
          "output_type": "stream",
          "text": [
            "\n",
            "Accuracy Training: 100%\n",
            "Accuracy Test: 68%\n"
          ],
          "name": "stdout"
        }
      ]
    },
    {
      "cell_type": "code",
      "metadata": {
        "id": "0aoZ3msn9xnM"
      },
      "source": [
        ""
      ],
      "execution_count": null,
      "outputs": []
    }
  ]
}